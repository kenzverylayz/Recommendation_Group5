{
 "cells": [
  {
   "cell_type": "markdown",
   "metadata": {},
   "source": [
    "Import Libraries"
   ]
  },
  {
   "cell_type": "code",
   "execution_count": 4,
   "metadata": {},
   "outputs": [],
   "source": [
    "import pandas as pd\n",
    "import numpy as np\n",
    "import os\n",
    "\n",
    "### Warnings\n",
    "import warnings\n",
    "\n",
    "### Text Preprocessing and Natural Language Processing\n",
    "from nltk.corpus import stopwords\n",
    "from nltk.tokenize import word_tokenize\n",
    "from nltk import pos_tag\n",
    "from nltk.stem import WordNetLemmatizer\n",
    "import nltk\n",
    "import re\n",
    "import spacy\n",
    "from wordcloud import WordCloud\n",
    "\n",
    "# For Fuzzy matching techniques\n",
    "#from rapidfuzz.process import extractOne\n",
    "\n",
    "# For parallel processing\n",
    "#from concurrent.futures import ThreadPoolExecutor"
   ]
  },
  {
   "cell_type": "markdown",
   "metadata": {},
   "source": [
    "Import TMDB Dataset"
   ]
  },
  {
   "cell_type": "code",
   "execution_count": 125,
   "metadata": {},
   "outputs": [],
   "source": [
    "pd.set_option('display.max_columns', None)\n",
    "\n",
    "# Load in TMDB dataset\n",
    "tmdb_df = pd.read_csv('TMDB_movie_dataset_v11.csv') \n",
    "\n",
    "# Drop Duplicates\n",
    "tmdb_df = tmdb_df.drop_duplicates()"
   ]
  },
  {
   "cell_type": "markdown",
   "metadata": {},
   "source": [
    "Creation of primary key in TMDB dataset (In order to join with the movielens dataset)"
   ]
  },
  {
   "cell_type": "code",
   "execution_count": 126,
   "metadata": {},
   "outputs": [],
   "source": [
    "# Cleaning up the release date column to coerce problematic values to NaT, and ensure dates are in proper format\n",
    "tmdb_df['release_date'] = pd.to_datetime(tmdb_df['release_date'], errors='coerce')\n",
    "\n",
    "# Creating new \"year\" (string) column and extracting year from the \"release_date\" field\n",
    "# Changed .replace('nan', '') to .replace('<NA>', '')\n",
    "tmdb_df['year'] = tmdb_df['release_date'].dt.year.astype('Int64').astype(str).replace('<NA>', '')\n",
    "\n",
    "# Clean up movie titles to remove leading and trailing whitespace if any\n",
    "tmdb_df['title'] = tmdb_df['title'].str.strip()\n",
    "\n",
    "# Create a new column called title_year, combining title and year. If year is available, then create a new field combining title and year\n",
    "tmdb_df['title_year'] = tmdb_df.apply(lambda x: f\"{x['title']} ({x['year']})\" if x['year'] else x['title'], axis=1).str.strip()"
   ]
  },
  {
   "cell_type": "markdown",
   "metadata": {},
   "source": [
    "Import MovieLens Datasets"
   ]
  },
  {
   "cell_type": "code",
   "execution_count": 127,
   "metadata": {},
   "outputs": [],
   "source": [
    "# Load MovieLens Movies dataset\n",
    "df_movies = pd.read_csv('ml-1m/movies.csv', sep='::', engine='python', \n",
    "                        encoding='ISO-8859-1', header=None, names=['MovieID', 'Title', 'Genres'])\n",
    "\n",
    "# Clean up movie titles to remove leading and trailing whitespace\n",
    "df_movies['Title'] = df_movies['Title'].str.strip()\n",
    "\n",
    "# Load MovieLens Ratings dataset\n",
    "df_ratings = pd.read_csv('ml-1m/ratings.csv', sep='::', engine='python', \n",
    "                         encoding='ISO-8859-1', header=None, names=['UserID', 'MovieID', 'Rating', 'Timestamp'])\n",
    "\n",
    "# Load MovieLens Users dataset\n",
    "df_users = pd.read_csv('ml-1m/users.csv', sep='::', engine='python', \n",
    "                       encoding='ISO-8859-1', header=None, names=['UserID', 'Gender', 'Age', 'Occupation','ZipCode'])"
   ]
  },
  {
   "cell_type": "code",
   "execution_count": 128,
   "metadata": {},
   "outputs": [],
   "source": [
    "# Merge MovieLens Dataset into one dataframe (from three)\n",
    "df_ml_combined = pd.merge(pd.merge(df_ratings, df_movies, on='MovieID'), df_users, on='UserID')"
   ]
  },
  {
   "cell_type": "markdown",
   "metadata": {},
   "source": [
    "Truncate TMDB Dataset to show movies in Year 2000 and before only"
   ]
  },
  {
   "cell_type": "code",
   "execution_count": 129,
   "metadata": {},
   "outputs": [],
   "source": [
    "# Filter out TMDB dataset for movies released in year 2000 and before\n",
    "truncated_tmdb_df = tmdb_df[tmdb_df['release_date'].dt.year.astype('Int64') <= 2000]"
   ]
  },
  {
   "cell_type": "markdown",
   "metadata": {},
   "source": [
    "Handle duplicates in the TMDB dateset involving the key 'title_year'"
   ]
  },
  {
   "cell_type": "code",
   "execution_count": 130,
   "metadata": {},
   "outputs": [],
   "source": [
    "# Extract out rows from TMDB dataset with duplicate keys as they are non-unique\n",
    "duplicates_tmdb = truncated_tmdb_df[truncated_tmdb_df['title_year'].duplicated(keep=False)]\n",
    "\n",
    "# Get unique title-year keys from duplicates\n",
    "unique_duplicated_title_years = duplicates_tmdb['title_year'].unique()\n",
    "\n",
    "# Filter Combined MovieLens dataset to exclude rows with the duplicated keys from the analysis\n",
    "filtered_df_ml_combined = df_ml_combined[~df_ml_combined['Title'].isin(unique_duplicated_title_years)]"
   ]
  },
  {
   "cell_type": "markdown",
   "metadata": {},
   "source": [
    "Fixing Articles which appear at the end of movie titles in the filtered_df_ml_combined dataset"
   ]
  },
  {
   "cell_type": "code",
   "execution_count": 131,
   "metadata": {},
   "outputs": [],
   "source": [
    "def format_title(title):\n",
    "    # Split the title into words\n",
    "    words = title.split()\n",
    "\n",
    "    # Check if the last word is \"A\", \"An\", or \"The\"\n",
    "    if len(words) >= 3 and words[-2].lower() in ['a', 'an', 'the'] and words[-3][-1] == \",\":\n",
    "        # Move the article to the beginning of the title\n",
    "        formatted_title = f\"{words[-2]} {' '.join(words[:-3])} {words[-3][:-1]} {words[-1]}\"\n",
    "    else:\n",
    "        # Keep the title unchanged\n",
    "        formatted_title = title\n",
    "\n",
    "    return formatted_title"
   ]
  },
  {
   "cell_type": "code",
   "execution_count": 132,
   "metadata": {},
   "outputs": [],
   "source": [
    "# Adjusting Movie Titles in correct sequence in the movielens dataset\n",
    "filtered_df_ml_combined[\"Title\"] = filtered_df_ml_combined[\"Title\"].apply(format_title)"
   ]
  },
  {
   "cell_type": "markdown",
   "metadata": {},
   "source": [
    "Fixing Movie Titles: Removing extra brackets --> as it is causing discrepancies in matching <br><br>\n",
    "Example: \"Shall We Dance? (Shall We Dansu?) (1996)\" --> \"Shall We Dance? (1996)\""
   ]
  },
  {
   "cell_type": "code",
   "execution_count": 133,
   "metadata": {},
   "outputs": [],
   "source": [
    "# Function to remove inner parentheses\n",
    "def remove_inner_parentheses(text):\n",
    "  if text.count('(') >= 2:\n",
    "      return text[:text.find('(')] + text[text.find(')')+1:].strip()\n",
    "  else:\n",
    "    return text\n",
    "\n",
    "# Replace titles with two sets of parentheses ; Applying function twice as some titles have more than 2 brackets\n",
    "filtered_df_ml_combined[\"Title\"] = filtered_df_ml_combined['Title'].apply(remove_inner_parentheses).apply(remove_inner_parentheses)"
   ]
  },
  {
   "cell_type": "markdown",
   "metadata": {},
   "source": [
    "Adding new columns to extract movie name and year seperately for movielens dataset"
   ]
  },
  {
   "cell_type": "code",
   "execution_count": 134,
   "metadata": {},
   "outputs": [],
   "source": [
    "# Create new `Movie_Title` column and removing the year from the `Title` column\n",
    "filtered_df_ml_combined[\"Movie_Title\"] = filtered_df_ml_combined[\"Title\"].str[:-7].str.strip()\n",
    "\n",
    "# Create new `Movie_Year` column\n",
    "filtered_df_ml_combined[\"Movie_Year\"] = filtered_df_ml_combined[\"Title\"].str[-5:-1].str.strip().astype(int)"
   ]
  },
  {
   "cell_type": "code",
   "execution_count": 135,
   "metadata": {},
   "outputs": [],
   "source": [
    "# Stripping again to prepare for merge\n",
    "filtered_df_ml_combined[\"Title\"] = filtered_df_ml_combined[\"Title\"].str.strip()"
   ]
  },
  {
   "cell_type": "code",
   "execution_count": 136,
   "metadata": {},
   "outputs": [],
   "source": [
    "# Removing intermediate white spaces\n",
    "filtered_df_ml_combined[\"Title\"] = filtered_df_ml_combined[\"Title\"].str.replace(\"\\s+\", \" \", regex=True)\n",
    "truncated_tmdb_df[\"title_year\"] = truncated_tmdb_df[\"title_year\"].str.replace(\"\\s+\", \" \", regex=True)"
   ]
  },
  {
   "cell_type": "markdown",
   "metadata": {},
   "source": [
    "Combining both MovieLens and TMDB datasets (First iteration)"
   ]
  },
  {
   "cell_type": "code",
   "execution_count": 137,
   "metadata": {},
   "outputs": [],
   "source": [
    "# Merge the 2 datasets using left-join (This will fix the `article` problem also) \n",
    "merged_df = pd.merge(filtered_df_ml_combined, truncated_tmdb_df, left_on='Title', right_on='title_year', how='left') "
   ]
  },
  {
   "cell_type": "markdown",
   "metadata": {},
   "source": [
    "Fixing discrepancies in movie release year"
   ]
  },
  {
   "cell_type": "code",
   "execution_count": 138,
   "metadata": {},
   "outputs": [],
   "source": [
    "# Extracting unsucessful merges and put in same format as filtered_df_ml_combined\n",
    "unsuccessful_merge = merged_df[merged_df['title_year'].isnull()].iloc[:,:12]\n",
    "\n",
    "#Retain original index\n",
    "unsuccessful_merge[\"original_index\"] = unsuccessful_merge.index"
   ]
  },
  {
   "cell_type": "markdown",
   "metadata": {},
   "source": [
    "Combining both MovieLens and TMDB datasets (Second iteration) --> Fix Movie Release Year error in MovieLens dataset"
   ]
  },
  {
   "cell_type": "code",
   "execution_count": 139,
   "metadata": {},
   "outputs": [],
   "source": [
    "# Stripping TMDB title column\n",
    "truncated_tmdb_df[\"title\"] = truncated_tmdb_df[\"title\"].str.strip()\n",
    "\n",
    "# Removing intermediate white spaces\n",
    "filtered_df_ml_combined[\"Movie_Title\"] = filtered_df_ml_combined[\"Movie_Title\"].str.replace(\"\\s+\", \" \", regex=True)\n",
    "truncated_tmdb_df[\"title\"] = truncated_tmdb_df[\"title\"].str.replace(\"\\s+\", \" \", regex=True)"
   ]
  },
  {
   "cell_type": "code",
   "execution_count": 140,
   "metadata": {},
   "outputs": [],
   "source": [
    "# Merge the 2 datasets using left-join (second iteration) using movie-titles as keys \n",
    "temp_merged_df = pd.merge(unsuccessful_merge, truncated_tmdb_df, left_on='Movie_Title', right_on='title', how='left') \n",
    "\n",
    "# Only keep those successful merges\n",
    "temp_merged_df = temp_merged_df[temp_merged_df[\"title\"].notnull()]\n",
    "\n",
    "# Convert year to integer for comparison\n",
    "temp_merged_df[\"year\"] = temp_merged_df[\"year\"].astype(int)\n",
    "\n",
    "# Create a new column and check if the movie years have a maximum absolute 1 year difference (To handle computational errors in the movielens dataset)\n",
    "temp_merged_df['one_year_difference'] = abs(temp_merged_df['Movie_Year'] - temp_merged_df['year']) <= 1\n",
    "\n",
    "# Only keep those rows where 1 year difference is TRUE\n",
    "temp_merged_df = temp_merged_df[temp_merged_df['one_year_difference'] == True]\n",
    "\n",
    "# Drop the 1 year difference column now\n",
    "temp_merged_df.drop(columns=[\"one_year_difference\"], inplace=True)\n",
    "\n",
    "# Update Indexes to correspond to original merged_df\n",
    "temp_merged_df.set_index(\"original_index\", inplace= True)"
   ]
  },
  {
   "cell_type": "code",
   "execution_count": 141,
   "metadata": {},
   "outputs": [],
   "source": [
    "# Update merged_df dataframe with these new values \n",
    "merged_df = merged_df.combine_first(temp_merged_df)"
   ]
  },
  {
   "cell_type": "markdown",
   "metadata": {},
   "source": [
    "Fuzzy Matching Techniques for string matching (Non Exact Match)  --> Third Iteration"
   ]
  },
  {
   "cell_type": "code",
   "execution_count": 19,
   "metadata": {},
   "outputs": [],
   "source": [
    "# Filter out rows where the merge was unsuccessful, and put in same format as filtered_df_ml_combined\n",
    "unmerged_v2 = merged_df[merged_df['title_year'].isnull()].iloc[:, :12]\n",
    "\n",
    "# Keep original index from merged_df\n",
    "unmerged_v2[\"original_index\"] = unmerged_v2.index"
   ]
  },
  {
   "cell_type": "code",
   "execution_count": 40,
   "metadata": {},
   "outputs": [],
   "source": [
    "# Reference list of movie names from TMDB dataset for comparison\n",
    "choices = truncated_tmdb_df['title_year'].unique() \n",
    "\n",
    "# Inner Function to find best match for each string (in-place modification)\n",
    "def find_best_match_parallel(query_strings, choices, dataset, threshold=85):\n",
    "    for index, row in query_strings.iterrows():\n",
    "        query_title = row['Title']\n",
    "        best_match = extractOne(query_title, choices, score_cutoff=threshold)\n",
    "        if best_match and best_match[1] > threshold:\n",
    "            dataset.at[index, \"Title\"] = best_match[0]\n",
    "\n",
    "# Main function with multithreading\n",
    "def extract_values(batch_size, dataset):\n",
    "    batches = [dataset.iloc[i:i+batch_size] for i in range(0, len(dataset), batch_size)]\n",
    "\n",
    "    with ThreadPoolExecutor() as executor:  # Use ThreadPoolExecutor for multithreading\n",
    "        executor.map(find_best_match_parallel, batches, [choices]*len(batches), [dataset]*len(batches))"
   ]
  },
  {
   "cell_type": "markdown",
   "metadata": {},
   "source": [
    "<h1> HEAVY COMPUTATIONAL PROCESSING HERE </h1>\n",
    "<h2 style=\"color:red\">  DO NOT RUN  </h2>"
   ]
  },
  {
   "cell_type": "markdown",
   "metadata": {},
   "source": [
    "Batch 1"
   ]
  },
  {
   "cell_type": "code",
   "execution_count": 53,
   "metadata": {},
   "outputs": [
    {
     "data": {
      "text/html": [
       "<div>\n",
       "<style scoped>\n",
       "    .dataframe tbody tr th:only-of-type {\n",
       "        vertical-align: middle;\n",
       "    }\n",
       "\n",
       "    .dataframe tbody tr th {\n",
       "        vertical-align: top;\n",
       "    }\n",
       "\n",
       "    .dataframe thead th {\n",
       "        text-align: right;\n",
       "    }\n",
       "</style>\n",
       "<table border=\"1\" class=\"dataframe\">\n",
       "  <thead>\n",
       "    <tr style=\"text-align: right;\">\n",
       "      <th></th>\n",
       "      <th>UserID</th>\n",
       "      <th>MovieID</th>\n",
       "      <th>Rating</th>\n",
       "      <th>Timestamp</th>\n",
       "      <th>Title</th>\n",
       "      <th>Genres</th>\n",
       "      <th>Gender</th>\n",
       "      <th>Age</th>\n",
       "      <th>Occupation</th>\n",
       "      <th>ZipCode</th>\n",
       "      <th>Movie_Title</th>\n",
       "      <th>Movie_Year</th>\n",
       "      <th>original_index</th>\n",
       "    </tr>\n",
       "  </thead>\n",
       "  <tbody>\n",
       "    <tr>\n",
       "      <th>44</th>\n",
       "      <td>1</td>\n",
       "      <td>260</td>\n",
       "      <td>4</td>\n",
       "      <td>978300760</td>\n",
       "      <td>Star Wars: Episode IV - A New Hope (1977)</td>\n",
       "      <td>Action|Adventure|Fantasy|Sci-Fi</td>\n",
       "      <td>F</td>\n",
       "      <td>1</td>\n",
       "      <td>10</td>\n",
       "      <td>48067</td>\n",
       "      <td>Star Wars: Episode IV - A New Hope</td>\n",
       "      <td>1977</td>\n",
       "      <td>44</td>\n",
       "    </tr>\n",
       "    <tr>\n",
       "      <th>64</th>\n",
       "      <td>2</td>\n",
       "      <td>1210</td>\n",
       "      <td>4</td>\n",
       "      <td>978298151</td>\n",
       "      <td>Star Wars: Episode VI - Return of the Jedi (1983)</td>\n",
       "      <td>Action|Adventure|Romance|Sci-Fi|War</td>\n",
       "      <td>M</td>\n",
       "      <td>56</td>\n",
       "      <td>16</td>\n",
       "      <td>70072</td>\n",
       "      <td>Star Wars: Episode VI - Return of the Jedi</td>\n",
       "      <td>1983</td>\n",
       "      <td>64</td>\n",
       "    </tr>\n",
       "    <tr>\n",
       "      <th>65</th>\n",
       "      <td>2</td>\n",
       "      <td>1792</td>\n",
       "      <td>3</td>\n",
       "      <td>978299941</td>\n",
       "      <td>U.S. Marshalls (1998)</td>\n",
       "      <td>Action|Thriller</td>\n",
       "      <td>M</td>\n",
       "      <td>56</td>\n",
       "      <td>16</td>\n",
       "      <td>70072</td>\n",
       "      <td>U.S. Marshalls</td>\n",
       "      <td>1998</td>\n",
       "      <td>65</td>\n",
       "    </tr>\n",
       "    <tr>\n",
       "      <th>99</th>\n",
       "      <td>2</td>\n",
       "      <td>1690</td>\n",
       "      <td>3</td>\n",
       "      <td>978300051</td>\n",
       "      <td>Alien: Resurrection (1997)</td>\n",
       "      <td>Action|Horror|Sci-Fi</td>\n",
       "      <td>M</td>\n",
       "      <td>56</td>\n",
       "      <td>16</td>\n",
       "      <td>70072</td>\n",
       "      <td>Alien: Resurrection</td>\n",
       "      <td>1997</td>\n",
       "      <td>99</td>\n",
       "    </tr>\n",
       "    <tr>\n",
       "      <th>104</th>\n",
       "      <td>2</td>\n",
       "      <td>1873</td>\n",
       "      <td>4</td>\n",
       "      <td>978298542</td>\n",
       "      <td>Misérables, Les (1998)</td>\n",
       "      <td>Drama</td>\n",
       "      <td>M</td>\n",
       "      <td>56</td>\n",
       "      <td>16</td>\n",
       "      <td>70072</td>\n",
       "      <td>Misérables, Les</td>\n",
       "      <td>1998</td>\n",
       "      <td>104</td>\n",
       "    </tr>\n",
       "    <tr>\n",
       "      <th>...</th>\n",
       "      <td>...</td>\n",
       "      <td>...</td>\n",
       "      <td>...</td>\n",
       "      <td>...</td>\n",
       "      <td>...</td>\n",
       "      <td>...</td>\n",
       "      <td>...</td>\n",
       "      <td>...</td>\n",
       "      <td>...</td>\n",
       "      <td>...</td>\n",
       "      <td>...</td>\n",
       "      <td>...</td>\n",
       "      <td>...</td>\n",
       "    </tr>\n",
       "    <tr>\n",
       "      <th>281510</th>\n",
       "      <td>1695</td>\n",
       "      <td>260</td>\n",
       "      <td>5</td>\n",
       "      <td>974707446</td>\n",
       "      <td>Star Wars: Episode IV - A New Hope (1977)</td>\n",
       "      <td>Action|Adventure|Fantasy|Sci-Fi</td>\n",
       "      <td>M</td>\n",
       "      <td>25</td>\n",
       "      <td>1</td>\n",
       "      <td>97206</td>\n",
       "      <td>Star Wars: Episode IV - A New Hope</td>\n",
       "      <td>1977</td>\n",
       "      <td>281510</td>\n",
       "    </tr>\n",
       "    <tr>\n",
       "      <th>281532</th>\n",
       "      <td>1695</td>\n",
       "      <td>1196</td>\n",
       "      <td>5</td>\n",
       "      <td>974707446</td>\n",
       "      <td>Star Wars: Episode V - The Empire Strikes Back...</td>\n",
       "      <td>Action|Adventure|Drama|Sci-Fi|War</td>\n",
       "      <td>M</td>\n",
       "      <td>25</td>\n",
       "      <td>1</td>\n",
       "      <td>97206</td>\n",
       "      <td>Star Wars: Episode V - The Empire Strikes Back</td>\n",
       "      <td>1980</td>\n",
       "      <td>281532</td>\n",
       "    </tr>\n",
       "    <tr>\n",
       "      <th>281543</th>\n",
       "      <td>1695</td>\n",
       "      <td>1374</td>\n",
       "      <td>5</td>\n",
       "      <td>974707603</td>\n",
       "      <td>Star Trek: The Wrath of Khan (1982)</td>\n",
       "      <td>Action|Adventure|Sci-Fi</td>\n",
       "      <td>M</td>\n",
       "      <td>25</td>\n",
       "      <td>1</td>\n",
       "      <td>97206</td>\n",
       "      <td>Star Trek: The Wrath of Khan</td>\n",
       "      <td>1982</td>\n",
       "      <td>281543</td>\n",
       "    </tr>\n",
       "    <tr>\n",
       "      <th>281569</th>\n",
       "      <td>1695</td>\n",
       "      <td>2700</td>\n",
       "      <td>4</td>\n",
       "      <td>974708688</td>\n",
       "      <td>South Park: Bigger, Longer and Uncut (1999)</td>\n",
       "      <td>Animation|Comedy</td>\n",
       "      <td>M</td>\n",
       "      <td>25</td>\n",
       "      <td>1</td>\n",
       "      <td>97206</td>\n",
       "      <td>South Park: Bigger, Longer and Uncut</td>\n",
       "      <td>1999</td>\n",
       "      <td>281569</td>\n",
       "    </tr>\n",
       "    <tr>\n",
       "      <th>281608</th>\n",
       "      <td>1695</td>\n",
       "      <td>1201</td>\n",
       "      <td>5</td>\n",
       "      <td>974709085</td>\n",
       "      <td>The Good, The Bad and The Ugly (1966)</td>\n",
       "      <td>Action|Western</td>\n",
       "      <td>M</td>\n",
       "      <td>25</td>\n",
       "      <td>1</td>\n",
       "      <td>97206</td>\n",
       "      <td>The Good, The Bad and The Ugly</td>\n",
       "      <td>1966</td>\n",
       "      <td>281608</td>\n",
       "    </tr>\n",
       "  </tbody>\n",
       "</table>\n",
       "<p>20000 rows × 13 columns</p>\n",
       "</div>"
      ],
      "text/plain": [
       "        UserID  MovieID  Rating  Timestamp  \\\n",
       "44           1      260       4  978300760   \n",
       "64           2     1210       4  978298151   \n",
       "65           2     1792       3  978299941   \n",
       "99           2     1690       3  978300051   \n",
       "104          2     1873       4  978298542   \n",
       "...        ...      ...     ...        ...   \n",
       "281510    1695      260       5  974707446   \n",
       "281532    1695     1196       5  974707446   \n",
       "281543    1695     1374       5  974707603   \n",
       "281569    1695     2700       4  974708688   \n",
       "281608    1695     1201       5  974709085   \n",
       "\n",
       "                                                    Title  \\\n",
       "44              Star Wars: Episode IV - A New Hope (1977)   \n",
       "64      Star Wars: Episode VI - Return of the Jedi (1983)   \n",
       "65                                  U.S. Marshalls (1998)   \n",
       "99                             Alien: Resurrection (1997)   \n",
       "104                                Misérables, Les (1998)   \n",
       "...                                                   ...   \n",
       "281510          Star Wars: Episode IV - A New Hope (1977)   \n",
       "281532  Star Wars: Episode V - The Empire Strikes Back...   \n",
       "281543                Star Trek: The Wrath of Khan (1982)   \n",
       "281569        South Park: Bigger, Longer and Uncut (1999)   \n",
       "281608              The Good, The Bad and The Ugly (1966)   \n",
       "\n",
       "                                     Genres Gender  Age  Occupation ZipCode  \\\n",
       "44          Action|Adventure|Fantasy|Sci-Fi      F    1          10   48067   \n",
       "64      Action|Adventure|Romance|Sci-Fi|War      M   56          16   70072   \n",
       "65                          Action|Thriller      M   56          16   70072   \n",
       "99                     Action|Horror|Sci-Fi      M   56          16   70072   \n",
       "104                                   Drama      M   56          16   70072   \n",
       "...                                     ...    ...  ...         ...     ...   \n",
       "281510      Action|Adventure|Fantasy|Sci-Fi      M   25           1   97206   \n",
       "281532    Action|Adventure|Drama|Sci-Fi|War      M   25           1   97206   \n",
       "281543              Action|Adventure|Sci-Fi      M   25           1   97206   \n",
       "281569                     Animation|Comedy      M   25           1   97206   \n",
       "281608                       Action|Western      M   25           1   97206   \n",
       "\n",
       "                                           Movie_Title  Movie_Year  \\\n",
       "44                  Star Wars: Episode IV - A New Hope        1977   \n",
       "64          Star Wars: Episode VI - Return of the Jedi        1983   \n",
       "65                                      U.S. Marshalls        1998   \n",
       "99                                 Alien: Resurrection        1997   \n",
       "104                                    Misérables, Les        1998   \n",
       "...                                                ...         ...   \n",
       "281510              Star Wars: Episode IV - A New Hope        1977   \n",
       "281532  Star Wars: Episode V - The Empire Strikes Back        1980   \n",
       "281543                    Star Trek: The Wrath of Khan        1982   \n",
       "281569            South Park: Bigger, Longer and Uncut        1999   \n",
       "281608                  The Good, The Bad and The Ugly        1966   \n",
       "\n",
       "        original_index  \n",
       "44                  44  \n",
       "64                  64  \n",
       "65                  65  \n",
       "99                  99  \n",
       "104                104  \n",
       "...                ...  \n",
       "281510          281510  \n",
       "281532          281532  \n",
       "281543          281543  \n",
       "281569          281569  \n",
       "281608          281608  \n",
       "\n",
       "[20000 rows x 13 columns]"
      ]
     },
     "execution_count": 53,
     "metadata": {},
     "output_type": "execute_result"
    }
   ],
   "source": [
    "# Batch 1 (First 20000)\n",
    "unmerged_v2_batch1 = unmerged_v2.iloc[:20000,:]"
   ]
  },
  {
   "cell_type": "code",
   "execution_count": 54,
   "metadata": {},
   "outputs": [],
   "source": [
    "# Main function for Batch 1\n",
    "extract_values(1000, unmerged_v2_batch1)"
   ]
  },
  {
   "cell_type": "markdown",
   "metadata": {},
   "source": [
    "Batch 2"
   ]
  },
  {
   "cell_type": "code",
   "execution_count": 63,
   "metadata": {},
   "outputs": [],
   "source": [
    "# Batch 2 (Next 20000)\n",
    "unmerged_v2_batch2 = unmerged_v2.iloc[20000:40000,:]"
   ]
  },
  {
   "cell_type": "code",
   "execution_count": 65,
   "metadata": {},
   "outputs": [],
   "source": [
    "# Main function for Batch 2\n",
    "extract_values(1000, unmerged_v2_batch2)"
   ]
  },
  {
   "cell_type": "code",
   "execution_count": 66,
   "metadata": {},
   "outputs": [],
   "source": [
    "# Export to Excel\n",
    "unmerged_v2_batch2.to_excel(\"Batch 2.xlsx\")"
   ]
  },
  {
   "cell_type": "markdown",
   "metadata": {},
   "source": [
    "Combine Batch 1 and 2 together"
   ]
  },
  {
   "cell_type": "code",
   "execution_count": 145,
   "metadata": {},
   "outputs": [],
   "source": [
    "batch1_2 = pd.concat([unmerged_v2_batch1,unmerged_v2_batch2])\n",
    "\n",
    "# Merge (4th iteration)\n",
    "temp2_merged = pd.merge(batch1_2, truncated_tmdb_df, left_on='Title', right_on='title_year', how='left') \n",
    "\n",
    "# Update Indexes to correspond to original merged_df\n",
    "temp2_merged.set_index(\"original_index\", inplace= True)"
   ]
  },
  {
   "cell_type": "code",
   "execution_count": 147,
   "metadata": {},
   "outputs": [],
   "source": [
    "# Update merged_df dataframe with these new values \n",
    "merged_df = merged_df.combine_first(temp2_merged)"
   ]
  },
  {
   "cell_type": "markdown",
   "metadata": {},
   "source": [
    "Batch 3"
   ]
  },
  {
   "cell_type": "code",
   "execution_count": 84,
   "metadata": {},
   "outputs": [],
   "source": [
    "# Batch 3 (Next 20000)\n",
    "unmerged_v2_batch3 = unmerged_v2.iloc[40000:60000,:]"
   ]
  },
  {
   "cell_type": "code",
   "execution_count": 85,
   "metadata": {},
   "outputs": [],
   "source": [
    "# Main function for Batch 3\n",
    "extract_values(1000, unmerged_v2_batch3)"
   ]
  },
  {
   "cell_type": "code",
   "execution_count": 86,
   "metadata": {},
   "outputs": [],
   "source": [
    "# Export to Excel\n",
    "unmerged_v2_batch3.to_excel(\"Batch 3.xlsx\")"
   ]
  },
  {
   "cell_type": "markdown",
   "metadata": {},
   "source": [
    "Batch 4"
   ]
  },
  {
   "cell_type": "code",
   "execution_count": 87,
   "metadata": {},
   "outputs": [],
   "source": [
    "# Batch 4 \n",
    "unmerged_v2_batch4 = unmerged_v2.iloc[60000:,:]"
   ]
  },
  {
   "cell_type": "code",
   "execution_count": 88,
   "metadata": {},
   "outputs": [],
   "source": [
    "# Main function for Batch 4\n",
    "extract_values(1000, unmerged_v2_batch4)"
   ]
  },
  {
   "cell_type": "code",
   "execution_count": 89,
   "metadata": {},
   "outputs": [],
   "source": [
    "# Export to Excel\n",
    "unmerged_v2_batch4.to_excel(\"Batch 4.xlsx\")"
   ]
  },
  {
   "cell_type": "markdown",
   "metadata": {},
   "source": [
    "Combine Batch 3 & 4"
   ]
  },
  {
   "cell_type": "code",
   "execution_count": 149,
   "metadata": {},
   "outputs": [],
   "source": [
    "batch3_4 = pd.concat([unmerged_v2_batch3,unmerged_v2_batch4])\n",
    "\n",
    "# Merge (5th iteration)\n",
    "temp3_merged = pd.merge(batch3_4, truncated_tmdb_df, left_on='Title', right_on='title_year', how='left') \n",
    "\n",
    "# Update Indexes to correspond to original merged_df\n",
    "temp3_merged.set_index(\"original_index\", inplace= True)"
   ]
  },
  {
   "cell_type": "code",
   "execution_count": 150,
   "metadata": {},
   "outputs": [],
   "source": [
    "# Update merged_df dataframe again\n",
    "merged_df = merged_df.combine_first(temp3_merged)"
   ]
  },
  {
   "cell_type": "markdown",
   "metadata": {},
   "source": [
    "Analyze Unmerged Cells"
   ]
  },
  {
   "cell_type": "code",
   "execution_count": 155,
   "metadata": {},
   "outputs": [],
   "source": [
    "# Filter out rows where the merge was unsuccessful, and put in same format as filtered_df_ml_combined\n",
    "unmerged_v3 = merged_df[merged_df[\"title_year\"].isnull()].iloc[:, :12]"
   ]
  },
  {
   "cell_type": "markdown",
   "metadata": {},
   "source": [
    "Re-running similarity checks for unmerged cells (which somehow did not work on first run)"
   ]
  },
  {
   "cell_type": "code",
   "execution_count": 157,
   "metadata": {},
   "outputs": [],
   "source": [
    "choices = truncated_tmdb_df['title_year'].unique() \n",
    "\n",
    "for index, row in unmerged_v3.iterrows():\n",
    "    query_title = row['Title']\n",
    "    best_match = extractOne(query_title, choices, score_cutoff=85)\n",
    "    if best_match and best_match[1] >= 85:\n",
    "        unmerged_v3.at[index, \"Title\"] = best_match[0]"
   ]
  },
  {
   "cell_type": "code",
   "execution_count": 164,
   "metadata": {},
   "outputs": [],
   "source": [
    "# Set indexes before merging to retain its values\n",
    "unmerged_v3[\"original_index\"] = unmerged_v3.index\n",
    "\n",
    "# Merge (6th iteration)\n",
    "temp4_merged = pd.merge(unmerged_v3, truncated_tmdb_df, left_on='Title', right_on='title_year', how='left') \n",
    "\n",
    "# Update Indexes to correspond to original merged_df\n",
    "temp4_merged.set_index(\"original_index\", inplace= True)"
   ]
  },
  {
   "cell_type": "code",
   "execution_count": 166,
   "metadata": {},
   "outputs": [],
   "source": [
    "# Update merged_df dataframe again [FINAL ONE]\n",
    "merged_df = merged_df.combine_first(temp4_merged)"
   ]
  },
  {
   "cell_type": "markdown",
   "metadata": {},
   "source": [
    "Check whether there are any more unsuccessful merges"
   ]
  },
  {
   "cell_type": "code",
   "execution_count": 170,
   "metadata": {},
   "outputs": [
    {
     "data": {
      "text/plain": [
       "0"
      ]
     },
     "execution_count": 170,
     "metadata": {},
     "output_type": "execute_result"
    }
   ],
   "source": [
    "merged_df[\"title_year\"].isnull().sum()"
   ]
  },
  {
   "cell_type": "markdown",
   "metadata": {},
   "source": [
    "Export file to csv"
   ]
  },
  {
   "cell_type": "code",
   "execution_count": 171,
   "metadata": {},
   "outputs": [],
   "source": [
    "merged_df.to_csv(\"Merged_df.csv\")"
   ]
  },
  {
   "cell_type": "markdown",
   "metadata": {},
   "source": [
    "<br>"
   ]
  }
 ],
 "metadata": {
  "kernelspec": {
   "display_name": "Python 3",
   "language": "python",
   "name": "python3"
  },
  "language_info": {
   "codemirror_mode": {
    "name": "ipython",
    "version": 3
   },
   "file_extension": ".py",
   "mimetype": "text/x-python",
   "name": "python",
   "nbconvert_exporter": "python",
   "pygments_lexer": "ipython3",
   "version": "3.9.6"
  }
 },
 "nbformat": 4,
 "nbformat_minor": 2
}
